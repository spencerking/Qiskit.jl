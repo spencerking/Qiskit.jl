{
 "cells": [
  {
   "cell_type": "code",
   "execution_count": 5,
   "metadata": {},
   "outputs": [
    {
     "data": {
      "text/plain": [
       "Dict{Any,Any} with 6 entries:\n",
       "  \"qiskit-aer\"           => \"0.3.4\"\n",
       "  \"qiskit-aqua\"          => \"0.6.2\"\n",
       "  \"qiskit-terra\"         => \"0.11.1\"\n",
       "  \"qiskit-ibmq-provider\" => \"0.4.5\"\n",
       "  \"qiskit-ignis\"         => \"0.2.0\"\n",
       "  \"qiskit\"               => \"0.14.1\""
      ]
     },
     "execution_count": 5,
     "metadata": {},
     "output_type": "execute_result"
    }
   ],
   "source": [
    "using Qiskit\n",
    "\n",
    "Qiskit.init()\n",
    "Qiskit.qiskit_version()"
   ]
  },
  {
   "cell_type": "code",
   "execution_count": null,
   "metadata": {},
   "outputs": [],
   "source": []
  }
 ],
 "metadata": {
  "kernelspec": {
   "display_name": "Julia 1.1.0",
   "language": "julia",
   "name": "julia-1.1"
  },
  "language_info": {
   "file_extension": ".jl",
   "mimetype": "application/julia",
   "name": "julia",
   "version": "1.1.0"
  }
 },
 "nbformat": 4,
 "nbformat_minor": 4
}
